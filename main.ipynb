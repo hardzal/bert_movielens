{
 "cells": [
  {
   "cell_type": "markdown",
   "source": [
    "## data preprocessing"
   ],
   "metadata": {
    "collapsed": false,
    "pycharm": {
     "name": "#%% md\n"
    }
   }
  },
  {
   "cell_type": "code",
   "execution_count": 1,
   "outputs": [],
   "source": [
    "import pandas as pd"
   ],
   "metadata": {
    "collapsed": false,
    "pycharm": {
     "name": "#%%\n"
    }
   }
  },
  {
   "cell_type": "code",
   "execution_count": 3,
   "outputs": [],
   "source": [
    "df_yt = pd.read_csv('./datasets/US_videos_data.csv')"
   ],
   "metadata": {
    "collapsed": false,
    "pycharm": {
     "name": "#%%\n"
    }
   }
  },
  {
   "cell_type": "code",
   "execution_count": 8,
   "outputs": [
    {
     "data": {
      "text/plain": "        Unnamed: 0   categoryId    view_count         likes       dislikes  \\\ncount  6000.000000  6000.000000  6.000000e+03  6.000000e+03    6000.000000   \nmean   2999.500000    18.420167  2.571398e+06  1.394124e+05    2626.611333   \nstd    1732.195139     6.972426  4.946436e+06  3.304069e+05    6681.729187   \nmin       0.000000     1.000000  8.520600e+04  0.000000e+00       0.000000   \n25%    1499.750000    10.000000  6.130160e+05  2.515575e+04     404.000000   \n50%    2999.500000    20.000000  1.213724e+06  5.834400e+04     938.000000   \n75%    4499.250000    24.000000  2.586614e+06  1.343098e+05    2351.250000   \nmax    5999.000000    28.000000  1.065778e+08  7.304556e+06  142671.000000   \n\n       comment_count  \ncount   6.000000e+03  \nmean    1.279763e+04  \nstd     5.633166e+04  \nmin     0.000000e+00  \n25%     2.093000e+03  \n50%     4.701500e+03  \n75%     1.043025e+04  \nmax     1.570213e+06  ",
      "text/html": "<div>\n<style scoped>\n    .dataframe tbody tr th:only-of-type {\n        vertical-align: middle;\n    }\n\n    .dataframe tbody tr th {\n        vertical-align: top;\n    }\n\n    .dataframe thead th {\n        text-align: right;\n    }\n</style>\n<table border=\"1\" class=\"dataframe\">\n  <thead>\n    <tr style=\"text-align: right;\">\n      <th></th>\n      <th>Unnamed: 0</th>\n      <th>categoryId</th>\n      <th>view_count</th>\n      <th>likes</th>\n      <th>dislikes</th>\n      <th>comment_count</th>\n    </tr>\n  </thead>\n  <tbody>\n    <tr>\n      <th>count</th>\n      <td>6000.000000</td>\n      <td>6000.000000</td>\n      <td>6.000000e+03</td>\n      <td>6.000000e+03</td>\n      <td>6000.000000</td>\n      <td>6.000000e+03</td>\n    </tr>\n    <tr>\n      <th>mean</th>\n      <td>2999.500000</td>\n      <td>18.420167</td>\n      <td>2.571398e+06</td>\n      <td>1.394124e+05</td>\n      <td>2626.611333</td>\n      <td>1.279763e+04</td>\n    </tr>\n    <tr>\n      <th>std</th>\n      <td>1732.195139</td>\n      <td>6.972426</td>\n      <td>4.946436e+06</td>\n      <td>3.304069e+05</td>\n      <td>6681.729187</td>\n      <td>5.633166e+04</td>\n    </tr>\n    <tr>\n      <th>min</th>\n      <td>0.000000</td>\n      <td>1.000000</td>\n      <td>8.520600e+04</td>\n      <td>0.000000e+00</td>\n      <td>0.000000</td>\n      <td>0.000000e+00</td>\n    </tr>\n    <tr>\n      <th>25%</th>\n      <td>1499.750000</td>\n      <td>10.000000</td>\n      <td>6.130160e+05</td>\n      <td>2.515575e+04</td>\n      <td>404.000000</td>\n      <td>2.093000e+03</td>\n    </tr>\n    <tr>\n      <th>50%</th>\n      <td>2999.500000</td>\n      <td>20.000000</td>\n      <td>1.213724e+06</td>\n      <td>5.834400e+04</td>\n      <td>938.000000</td>\n      <td>4.701500e+03</td>\n    </tr>\n    <tr>\n      <th>75%</th>\n      <td>4499.250000</td>\n      <td>24.000000</td>\n      <td>2.586614e+06</td>\n      <td>1.343098e+05</td>\n      <td>2351.250000</td>\n      <td>1.043025e+04</td>\n    </tr>\n    <tr>\n      <th>max</th>\n      <td>5999.000000</td>\n      <td>28.000000</td>\n      <td>1.065778e+08</td>\n      <td>7.304556e+06</td>\n      <td>142671.000000</td>\n      <td>1.570213e+06</td>\n    </tr>\n  </tbody>\n</table>\n</div>"
     },
     "execution_count": 8,
     "metadata": {},
     "output_type": "execute_result"
    }
   ],
   "source": [
    "df_yt.describe()"
   ],
   "metadata": {
    "collapsed": false,
    "pycharm": {
     "name": "#%%\n"
    }
   }
  },
  {
   "cell_type": "code",
   "execution_count": 9,
   "outputs": [
    {
     "data": {
      "text/plain": "   Unnamed: 0     video_id                                              title  \\\n0           0  IhO1FcjDMV4  Meatpacking: Last Week Tonight with John Olive...   \n1           1  p4Wy84AOzj0  Best 3D Pen Art Wins $5,000 Challenge! | ZHC C...   \n2           2  4eKXwKDdXYA                   100 Days - [Minecraft Superflat]   \n3           3  XHR5mt2gBjo  Amazing! Luke Bryan Calls 15-Year-Old Casey Bi...   \n4           4  C-icyHEb7W4           Game Theory: Did Reddit Just SOLVE FNAF?   \n\n            publishedAt                 channelId        channelTitle  \\\n0  2021-02-22T07:30:01Z  UC3XTzVzaHQEd30rQbuvCtTQ     LastWeekTonight   \n1  2021-02-21T20:43:28Z  UCPAk4rqVIwg1NCXh61VJxbg          ZHC Crafts   \n2  2021-02-20T18:00:01Z  UC9FkeEFIGd9FXRfxpTltXYA     Luke TheNotable   \n3  2021-02-22T01:53:12Z  UCAMPco9PqjBbI_MLsDOO4Jw       American Idol   \n4  2021-02-20T19:05:26Z  UCo_IB5145EVNcf8hw1Kku7w  The Game Theorists   \n\n   categoryId trending_date  \\\n0          24      21.22.02   \n1          26      21.22.02   \n2          20      21.22.02   \n3          24      21.22.02   \n4          20      21.22.02   \n\n                                                tags  view_count   likes  \\\n0                                             [none]     1067147   60111   \n1                                             [none]     1047854   50662   \n2  luke thenotable|luke|the|notable|luke thenotab...     6133266  372753   \n3  American Idol|singing competition|Katy Perry|R...      790238   14267   \n4  fnaf|five nights at freddy's|fnaf 4|fnaf theor...     3248661  225780   \n\n   dislikes  comment_count                                  thumbnail_link  \\\n0      1221           6866  https://i.ytimg.com/vi/IhO1FcjDMV4/default.jpg   \n1       690           4879  https://i.ytimg.com/vi/p4Wy84AOzj0/default.jpg   \n2      7961          39551  https://i.ytimg.com/vi/4eKXwKDdXYA/default.jpg   \n3       129           1257  https://i.ytimg.com/vi/XHR5mt2gBjo/default.jpg   \n4      2872          31885  https://i.ytimg.com/vi/C-icyHEb7W4/default.jpg   \n\n   comments_disabled  ratings_disabled  \\\n0              False             False   \n1              False             False   \n2              False             False   \n3              False             False   \n4              False             False   \n\n                                         description  \n0  The pandemic has thrown into high relief some ...  \n1  I can't believe we made art using 3d pens and ...  \n2  This video is intended for audiences 13+ years...  \n3  Small but MIGHTY! Casey Bishop completely blow...  \n4  Get Yourself Some BRAND NEW Theory Wear! ► htt...  ",
      "text/html": "<div>\n<style scoped>\n    .dataframe tbody tr th:only-of-type {\n        vertical-align: middle;\n    }\n\n    .dataframe tbody tr th {\n        vertical-align: top;\n    }\n\n    .dataframe thead th {\n        text-align: right;\n    }\n</style>\n<table border=\"1\" class=\"dataframe\">\n  <thead>\n    <tr style=\"text-align: right;\">\n      <th></th>\n      <th>Unnamed: 0</th>\n      <th>video_id</th>\n      <th>title</th>\n      <th>publishedAt</th>\n      <th>channelId</th>\n      <th>channelTitle</th>\n      <th>categoryId</th>\n      <th>trending_date</th>\n      <th>tags</th>\n      <th>view_count</th>\n      <th>likes</th>\n      <th>dislikes</th>\n      <th>comment_count</th>\n      <th>thumbnail_link</th>\n      <th>comments_disabled</th>\n      <th>ratings_disabled</th>\n      <th>description</th>\n    </tr>\n  </thead>\n  <tbody>\n    <tr>\n      <th>0</th>\n      <td>0</td>\n      <td>IhO1FcjDMV4</td>\n      <td>Meatpacking: Last Week Tonight with John Olive...</td>\n      <td>2021-02-22T07:30:01Z</td>\n      <td>UC3XTzVzaHQEd30rQbuvCtTQ</td>\n      <td>LastWeekTonight</td>\n      <td>24</td>\n      <td>21.22.02</td>\n      <td>[none]</td>\n      <td>1067147</td>\n      <td>60111</td>\n      <td>1221</td>\n      <td>6866</td>\n      <td>https://i.ytimg.com/vi/IhO1FcjDMV4/default.jpg</td>\n      <td>False</td>\n      <td>False</td>\n      <td>The pandemic has thrown into high relief some ...</td>\n    </tr>\n    <tr>\n      <th>1</th>\n      <td>1</td>\n      <td>p4Wy84AOzj0</td>\n      <td>Best 3D Pen Art Wins $5,000 Challenge! | ZHC C...</td>\n      <td>2021-02-21T20:43:28Z</td>\n      <td>UCPAk4rqVIwg1NCXh61VJxbg</td>\n      <td>ZHC Crafts</td>\n      <td>26</td>\n      <td>21.22.02</td>\n      <td>[none]</td>\n      <td>1047854</td>\n      <td>50662</td>\n      <td>690</td>\n      <td>4879</td>\n      <td>https://i.ytimg.com/vi/p4Wy84AOzj0/default.jpg</td>\n      <td>False</td>\n      <td>False</td>\n      <td>I can't believe we made art using 3d pens and ...</td>\n    </tr>\n    <tr>\n      <th>2</th>\n      <td>2</td>\n      <td>4eKXwKDdXYA</td>\n      <td>100 Days - [Minecraft Superflat]</td>\n      <td>2021-02-20T18:00:01Z</td>\n      <td>UC9FkeEFIGd9FXRfxpTltXYA</td>\n      <td>Luke TheNotable</td>\n      <td>20</td>\n      <td>21.22.02</td>\n      <td>luke thenotable|luke|the|notable|luke thenotab...</td>\n      <td>6133266</td>\n      <td>372753</td>\n      <td>7961</td>\n      <td>39551</td>\n      <td>https://i.ytimg.com/vi/4eKXwKDdXYA/default.jpg</td>\n      <td>False</td>\n      <td>False</td>\n      <td>This video is intended for audiences 13+ years...</td>\n    </tr>\n    <tr>\n      <th>3</th>\n      <td>3</td>\n      <td>XHR5mt2gBjo</td>\n      <td>Amazing! Luke Bryan Calls 15-Year-Old Casey Bi...</td>\n      <td>2021-02-22T01:53:12Z</td>\n      <td>UCAMPco9PqjBbI_MLsDOO4Jw</td>\n      <td>American Idol</td>\n      <td>24</td>\n      <td>21.22.02</td>\n      <td>American Idol|singing competition|Katy Perry|R...</td>\n      <td>790238</td>\n      <td>14267</td>\n      <td>129</td>\n      <td>1257</td>\n      <td>https://i.ytimg.com/vi/XHR5mt2gBjo/default.jpg</td>\n      <td>False</td>\n      <td>False</td>\n      <td>Small but MIGHTY! Casey Bishop completely blow...</td>\n    </tr>\n    <tr>\n      <th>4</th>\n      <td>4</td>\n      <td>C-icyHEb7W4</td>\n      <td>Game Theory: Did Reddit Just SOLVE FNAF?</td>\n      <td>2021-02-20T19:05:26Z</td>\n      <td>UCo_IB5145EVNcf8hw1Kku7w</td>\n      <td>The Game Theorists</td>\n      <td>20</td>\n      <td>21.22.02</td>\n      <td>fnaf|five nights at freddy's|fnaf 4|fnaf theor...</td>\n      <td>3248661</td>\n      <td>225780</td>\n      <td>2872</td>\n      <td>31885</td>\n      <td>https://i.ytimg.com/vi/C-icyHEb7W4/default.jpg</td>\n      <td>False</td>\n      <td>False</td>\n      <td>Get Yourself Some BRAND NEW Theory Wear! ► htt...</td>\n    </tr>\n  </tbody>\n</table>\n</div>"
     },
     "execution_count": 9,
     "metadata": {},
     "output_type": "execute_result"
    }
   ],
   "source": [
    "df_yt.head()"
   ],
   "metadata": {
    "collapsed": false,
    "pycharm": {
     "name": "#%%\n"
    }
   }
  },
  {
   "cell_type": "code",
   "execution_count": 10,
   "outputs": [],
   "source": [
    "df_yt = df_yt.drop_duplicates(subset = ['title'])"
   ],
   "metadata": {
    "collapsed": false,
    "pycharm": {
     "name": "#%%\n"
    }
   }
  },
  {
   "cell_type": "code",
   "execution_count": 12,
   "outputs": [],
   "source": [
    "df_yt.columns = ['Title', 'Description']"
   ],
   "metadata": {
    "collapsed": false,
    "pycharm": {
     "name": "#%%\n"
    }
   }
  },
  {
   "cell_type": "code",
   "execution_count": null,
   "outputs": [],
   "source": [],
   "metadata": {
    "collapsed": false,
    "pycharm": {
     "name": "#%%\n"
    }
   }
  }
 ],
 "metadata": {
  "kernelspec": {
   "display_name": "Python 3",
   "language": "python",
   "name": "python3"
  },
  "language_info": {
   "codemirror_mode": {
    "name": "ipython",
    "version": 2
   },
   "file_extension": ".py",
   "mimetype": "text/x-python",
   "name": "python",
   "nbconvert_exporter": "python",
   "pygments_lexer": "ipython2",
   "version": "2.7.6"
  }
 },
 "nbformat": 4,
 "nbformat_minor": 0
}