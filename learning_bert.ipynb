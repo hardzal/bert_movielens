{
  "nbformat": 4,
  "nbformat_minor": 0,
  "metadata": {
    "colab": {
      "provenance": [],
      "authorship_tag": "ABX9TyPqwuLcWPg9KjcFGaDv5yMw",
      "include_colab_link": true
    },
    "kernelspec": {
      "name": "python3",
      "display_name": "Python 3"
    },
    "language_info": {
      "name": "python"
    },
    "accelerator": "GPU",
    "gpuClass": "standard"
  },
  "cells": [
    {
      "cell_type": "markdown",
      "metadata": {
        "id": "view-in-github",
        "colab_type": "text"
      },
      "source": [
        "<a href=\"https://colab.research.google.com/github/hardzal/bert_movielens/blob/master/learning_bert.ipynb\" target=\"_parent\"><img src=\"https://colab.research.google.com/assets/colab-badge.svg\" alt=\"Open In Colab\"/></a>"
      ]
    },
    {
      "cell_type": "code",
      "execution_count": 1,
      "metadata": {
        "id": "PYIH5EUbyljg",
        "colab": {
          "base_uri": "https://localhost:8080/"
        },
        "outputId": "98f1a139-de15-45cd-f95f-3864320220b5"
      },
      "outputs": [
        {
          "output_type": "stream",
          "name": "stdout",
          "text": [
            "Looking in indexes: https://pypi.org/simple, https://us-python.pkg.dev/colab-wheels/public/simple/\n",
            "Requirement already satisfied: recbole in /usr/local/lib/python3.8/dist-packages (1.1.1)\n",
            "Requirement already satisfied: colorlog==4.7.2 in /usr/local/lib/python3.8/dist-packages (from recbole) (4.7.2)\n",
            "Requirement already satisfied: scipy>=1.6.0 in /usr/local/lib/python3.8/dist-packages (from recbole) (1.7.3)\n",
            "Requirement already satisfied: tabulate>=0.8.10 in /usr/local/lib/python3.8/dist-packages (from recbole) (0.8.10)\n",
            "Requirement already satisfied: numpy>=1.17.2 in /usr/local/lib/python3.8/dist-packages (from recbole) (1.21.6)\n",
            "Requirement already satisfied: torch>=1.10.0 in /usr/local/lib/python3.8/dist-packages (from recbole) (1.13.1+cu116)\n",
            "Requirement already satisfied: tensorboard>=2.5.0 in /usr/local/lib/python3.8/dist-packages (from recbole) (2.9.1)\n",
            "Requirement already satisfied: pyyaml>=5.1.0 in /usr/local/lib/python3.8/dist-packages (from recbole) (6.0)\n",
            "Requirement already satisfied: tqdm>=4.48.2 in /usr/local/lib/python3.8/dist-packages (from recbole) (4.64.1)\n",
            "Requirement already satisfied: scikit-learn>=0.23.2 in /usr/local/lib/python3.8/dist-packages (from recbole) (1.0.2)\n",
            "Requirement already satisfied: thop>=0.1.1.post2207130030 in /usr/local/lib/python3.8/dist-packages (from recbole) (0.1.1.post2209072238)\n",
            "Requirement already satisfied: colorama==0.4.4 in /usr/local/lib/python3.8/dist-packages (from recbole) (0.4.4)\n",
            "Requirement already satisfied: plotly>=4.0.0 in /usr/local/lib/python3.8/dist-packages (from recbole) (5.5.0)\n",
            "Requirement already satisfied: pandas>=1.0.5 in /usr/local/lib/python3.8/dist-packages (from recbole) (1.3.5)\n",
            "Requirement already satisfied: pytz>=2017.3 in /usr/local/lib/python3.8/dist-packages (from pandas>=1.0.5->recbole) (2022.7)\n",
            "Requirement already satisfied: python-dateutil>=2.7.3 in /usr/local/lib/python3.8/dist-packages (from pandas>=1.0.5->recbole) (2.8.2)\n",
            "Requirement already satisfied: six in /usr/local/lib/python3.8/dist-packages (from plotly>=4.0.0->recbole) (1.15.0)\n",
            "Requirement already satisfied: tenacity>=6.2.0 in /usr/local/lib/python3.8/dist-packages (from plotly>=4.0.0->recbole) (8.1.0)\n",
            "Requirement already satisfied: threadpoolctl>=2.0.0 in /usr/local/lib/python3.8/dist-packages (from scikit-learn>=0.23.2->recbole) (3.1.0)\n",
            "Requirement already satisfied: joblib>=0.11 in /usr/local/lib/python3.8/dist-packages (from scikit-learn>=0.23.2->recbole) (1.2.0)\n",
            "Requirement already satisfied: google-auth-oauthlib<0.5,>=0.4.1 in /usr/local/lib/python3.8/dist-packages (from tensorboard>=2.5.0->recbole) (0.4.6)\n",
            "Requirement already satisfied: google-auth<3,>=1.6.3 in /usr/local/lib/python3.8/dist-packages (from tensorboard>=2.5.0->recbole) (2.16.0)\n",
            "Requirement already satisfied: wheel>=0.26 in /usr/local/lib/python3.8/dist-packages (from tensorboard>=2.5.0->recbole) (0.38.4)\n",
            "Requirement already satisfied: requests<3,>=2.21.0 in /usr/local/lib/python3.8/dist-packages (from tensorboard>=2.5.0->recbole) (2.25.1)\n",
            "Requirement already satisfied: grpcio>=1.24.3 in /usr/local/lib/python3.8/dist-packages (from tensorboard>=2.5.0->recbole) (1.51.1)\n",
            "Requirement already satisfied: markdown>=2.6.8 in /usr/local/lib/python3.8/dist-packages (from tensorboard>=2.5.0->recbole) (3.4.1)\n",
            "Requirement already satisfied: tensorboard-plugin-wit>=1.6.0 in /usr/local/lib/python3.8/dist-packages (from tensorboard>=2.5.0->recbole) (1.8.1)\n",
            "Requirement already satisfied: werkzeug>=1.0.1 in /usr/local/lib/python3.8/dist-packages (from tensorboard>=2.5.0->recbole) (1.0.1)\n",
            "Requirement already satisfied: absl-py>=0.4 in /usr/local/lib/python3.8/dist-packages (from tensorboard>=2.5.0->recbole) (1.3.0)\n",
            "Requirement already satisfied: setuptools>=41.0.0 in /usr/local/lib/python3.8/dist-packages (from tensorboard>=2.5.0->recbole) (57.4.0)\n",
            "Requirement already satisfied: protobuf<3.20,>=3.9.2 in /usr/local/lib/python3.8/dist-packages (from tensorboard>=2.5.0->recbole) (3.19.6)\n",
            "Requirement already satisfied: tensorboard-data-server<0.7.0,>=0.6.0 in /usr/local/lib/python3.8/dist-packages (from tensorboard>=2.5.0->recbole) (0.6.1)\n",
            "Requirement already satisfied: typing-extensions in /usr/local/lib/python3.8/dist-packages (from torch>=1.10.0->recbole) (4.4.0)\n",
            "Requirement already satisfied: rsa<5,>=3.1.4 in /usr/local/lib/python3.8/dist-packages (from google-auth<3,>=1.6.3->tensorboard>=2.5.0->recbole) (4.9)\n",
            "Requirement already satisfied: pyasn1-modules>=0.2.1 in /usr/local/lib/python3.8/dist-packages (from google-auth<3,>=1.6.3->tensorboard>=2.5.0->recbole) (0.2.8)\n",
            "Requirement already satisfied: cachetools<6.0,>=2.0.0 in /usr/local/lib/python3.8/dist-packages (from google-auth<3,>=1.6.3->tensorboard>=2.5.0->recbole) (5.2.1)\n",
            "Requirement already satisfied: requests-oauthlib>=0.7.0 in /usr/local/lib/python3.8/dist-packages (from google-auth-oauthlib<0.5,>=0.4.1->tensorboard>=2.5.0->recbole) (1.3.1)\n",
            "Requirement already satisfied: importlib-metadata>=4.4 in /usr/local/lib/python3.8/dist-packages (from markdown>=2.6.8->tensorboard>=2.5.0->recbole) (6.0.0)\n",
            "Requirement already satisfied: certifi>=2017.4.17 in /usr/local/lib/python3.8/dist-packages (from requests<3,>=2.21.0->tensorboard>=2.5.0->recbole) (2022.12.7)\n",
            "Requirement already satisfied: idna<3,>=2.5 in /usr/local/lib/python3.8/dist-packages (from requests<3,>=2.21.0->tensorboard>=2.5.0->recbole) (2.10)\n",
            "Requirement already satisfied: urllib3<1.27,>=1.21.1 in /usr/local/lib/python3.8/dist-packages (from requests<3,>=2.21.0->tensorboard>=2.5.0->recbole) (1.24.3)\n",
            "Requirement already satisfied: chardet<5,>=3.0.2 in /usr/local/lib/python3.8/dist-packages (from requests<3,>=2.21.0->tensorboard>=2.5.0->recbole) (4.0.0)\n",
            "Requirement already satisfied: zipp>=0.5 in /usr/local/lib/python3.8/dist-packages (from importlib-metadata>=4.4->markdown>=2.6.8->tensorboard>=2.5.0->recbole) (3.11.0)\n",
            "Requirement already satisfied: pyasn1<0.5.0,>=0.4.6 in /usr/local/lib/python3.8/dist-packages (from pyasn1-modules>=0.2.1->google-auth<3,>=1.6.3->tensorboard>=2.5.0->recbole) (0.4.8)\n",
            "Requirement already satisfied: oauthlib>=3.0.0 in /usr/local/lib/python3.8/dist-packages (from requests-oauthlib>=0.7.0->google-auth-oauthlib<0.5,>=0.4.1->tensorboard>=2.5.0->recbole) (3.2.2)\n"
          ]
        }
      ],
      "source": [
        "!pip install recbole"
      ]
    },
    {
      "cell_type": "code",
      "source": [
        "import os\n",
        "import numpy as np\n",
        "import pandas as pd\n",
        "import gc"
      ],
      "metadata": {
        "id": "7bWEveojYtIE"
      },
      "execution_count": 2,
      "outputs": []
    },
    {
      "cell_type": "code",
      "source": [
        "from google.colab import drive\n",
        "\n",
        "drive.mount('/content/drive')"
      ],
      "metadata": {
        "colab": {
          "base_uri": "https://localhost:8080/"
        },
        "id": "PKDaz8_sebYB",
        "outputId": "1b04fbe5-d399-47b2-8873-f4641f43fb5c"
      },
      "execution_count": 3,
      "outputs": [
        {
          "output_type": "stream",
          "name": "stdout",
          "text": [
            "Drive already mounted at /content/drive; to attempt to forcibly remount, call drive.mount(\"/content/drive\", force_remount=True).\n"
          ]
        }
      ]
    },
    {
      "cell_type": "code",
      "source": [
        "!git clone https://github.com/RUCAIBox/RecBole.git && cd RecBole\n",
        "!pip install ray\n",
        "!pip install -e . --verbose\n",
        "# # you can't run after this line "
      ],
      "metadata": {
        "colab": {
          "base_uri": "https://localhost:8080/"
        },
        "id": "IBsq5AMBfCv9",
        "outputId": "cd44feb9-2c6e-46de-cc25-a05d7b1b5851"
      },
      "execution_count": 4,
      "outputs": [
        {
          "output_type": "stream",
          "name": "stdout",
          "text": [
            "fatal: destination path 'RecBole' already exists and is not an empty directory.\n",
            "Looking in indexes: https://pypi.org/simple, https://us-python.pkg.dev/colab-wheels/public/simple/\n",
            "Requirement already satisfied: ray in /usr/local/lib/python3.8/dist-packages (2.2.0)\n",
            "Requirement already satisfied: attrs in /usr/local/lib/python3.8/dist-packages (from ray) (22.2.0)\n",
            "Requirement already satisfied: msgpack<2.0.0,>=1.0.0 in /usr/local/lib/python3.8/dist-packages (from ray) (1.0.4)\n",
            "Requirement already satisfied: jsonschema in /usr/local/lib/python3.8/dist-packages (from ray) (4.3.3)\n",
            "Requirement already satisfied: pyyaml in /usr/local/lib/python3.8/dist-packages (from ray) (6.0)\n",
            "Requirement already satisfied: aiosignal in /usr/local/lib/python3.8/dist-packages (from ray) (1.3.1)\n",
            "Requirement already satisfied: protobuf!=3.19.5,>=3.15.3 in /usr/local/lib/python3.8/dist-packages (from ray) (3.19.6)\n",
            "Requirement already satisfied: requests in /usr/local/lib/python3.8/dist-packages (from ray) (2.25.1)\n",
            "Requirement already satisfied: numpy>=1.16 in /usr/local/lib/python3.8/dist-packages (from ray) (1.21.6)\n",
            "Requirement already satisfied: filelock in /usr/local/lib/python3.8/dist-packages (from ray) (3.9.0)\n",
            "Requirement already satisfied: virtualenv>=20.0.24 in /usr/local/lib/python3.8/dist-packages (from ray) (20.17.1)\n",
            "Requirement already satisfied: grpcio>=1.32.0 in /usr/local/lib/python3.8/dist-packages (from ray) (1.51.1)\n",
            "Requirement already satisfied: click>=7.0 in /usr/local/lib/python3.8/dist-packages (from ray) (7.1.2)\n",
            "Requirement already satisfied: frozenlist in /usr/local/lib/python3.8/dist-packages (from ray) (1.3.3)\n",
            "Requirement already satisfied: platformdirs<3,>=2.4 in /usr/local/lib/python3.8/dist-packages (from virtualenv>=20.0.24->ray) (2.6.2)\n",
            "Requirement already satisfied: distlib<1,>=0.3.6 in /usr/local/lib/python3.8/dist-packages (from virtualenv>=20.0.24->ray) (0.3.6)\n",
            "Requirement already satisfied: importlib-resources>=1.4.0 in /usr/local/lib/python3.8/dist-packages (from jsonschema->ray) (5.10.2)\n",
            "Requirement already satisfied: pyrsistent!=0.17.0,!=0.17.1,!=0.17.2,>=0.14.0 in /usr/local/lib/python3.8/dist-packages (from jsonschema->ray) (0.19.3)\n",
            "Requirement already satisfied: urllib3<1.27,>=1.21.1 in /usr/local/lib/python3.8/dist-packages (from requests->ray) (1.24.3)\n",
            "Requirement already satisfied: certifi>=2017.4.17 in /usr/local/lib/python3.8/dist-packages (from requests->ray) (2022.12.7)\n",
            "Requirement already satisfied: chardet<5,>=3.0.2 in /usr/local/lib/python3.8/dist-packages (from requests->ray) (4.0.0)\n",
            "Requirement already satisfied: idna<3,>=2.5 in /usr/local/lib/python3.8/dist-packages (from requests->ray) (2.10)\n",
            "Requirement already satisfied: zipp>=3.1.0 in /usr/local/lib/python3.8/dist-packages (from importlib-resources>=1.4.0->jsonschema->ray) (3.11.0)\n",
            "Using pip 22.0.4 from /usr/local/lib/python3.8/dist-packages/pip (python 3.8)\n",
            "Looking in indexes: https://pypi.org/simple, https://us-python.pkg.dev/colab-wheels/public/simple/\n",
            "Obtaining file:///content\n",
            "\u001b[31mERROR: file:///content does not appear to be a Python project: neither 'setup.py' nor 'pyproject.toml' found.\u001b[0m\u001b[31m\n",
            "\u001b[0m"
          ]
        }
      ]
    },
    {
      "cell_type": "code",
      "source": [
        "from recbole.quick_start import run_recbole\n",
        "parameter_dict = {\n",
        "   'train_neg_sample_args': None,\n",
        "}\n",
        "run_recbole(model='BERT4Rec', dataset='ml-100k', config_dict=parameter_dict)"
      ],
      "metadata": {
        "colab": {
          "base_uri": "https://localhost:8080/"
        },
        "id": "jb-viZ9nhqaX",
        "outputId": "dabee2b7-6bfd-451e-bfbd-dc2c850f972e"
      },
      "execution_count": 5,
      "outputs": [
        {
          "output_type": "stream",
          "name": "stderr",
          "text": [
            "Train     0: 100%|█████████████████████████| 48/48 [00:13<00:00,  3.67it/s, GPU RAM: 2.09 G/14.76 G]\n",
            "Evaluate   : 100%|███████████████████████████| 1/1 [00:00<00:00, 11.09it/s, GPU RAM: 2.09 G/14.76 G]\n",
            "Train     1: 100%|█████████████████████████| 48/48 [00:12<00:00,  3.85it/s, GPU RAM: 2.09 G/14.76 G]\n",
            "Evaluate   : 100%|███████████████████████████| 1/1 [00:00<00:00, 11.67it/s, GPU RAM: 2.09 G/14.76 G]\n",
            "Train     2: 100%|█████████████████████████| 48/48 [00:12<00:00,  3.88it/s, GPU RAM: 2.09 G/14.76 G]\n",
            "Evaluate   : 100%|███████████████████████████| 1/1 [00:00<00:00, 13.09it/s, GPU RAM: 2.09 G/14.76 G]\n",
            "Train     3: 100%|█████████████████████████| 48/48 [00:12<00:00,  3.73it/s, GPU RAM: 2.09 G/14.76 G]\n",
            "Evaluate   : 100%|███████████████████████████| 1/1 [00:00<00:00, 12.80it/s, GPU RAM: 2.09 G/14.76 G]\n",
            "Train     4: 100%|█████████████████████████| 48/48 [00:13<00:00,  3.44it/s, GPU RAM: 2.09 G/14.76 G]\n",
            "Evaluate   : 100%|███████████████████████████| 1/1 [00:00<00:00, 11.61it/s, GPU RAM: 2.09 G/14.76 G]\n",
            "Train     5: 100%|█████████████████████████| 48/48 [00:12<00:00,  3.84it/s, GPU RAM: 2.09 G/14.76 G]\n",
            "Evaluate   : 100%|███████████████████████████| 1/1 [00:00<00:00, 13.15it/s, GPU RAM: 2.09 G/14.76 G]\n",
            "Train     6: 100%|█████████████████████████| 48/48 [00:12<00:00,  3.89it/s, GPU RAM: 2.09 G/14.76 G]\n",
            "Evaluate   : 100%|███████████████████████████| 1/1 [00:00<00:00, 10.75it/s, GPU RAM: 2.09 G/14.76 G]\n",
            "Train     7: 100%|█████████████████████████| 48/48 [00:12<00:00,  3.79it/s, GPU RAM: 2.09 G/14.76 G]\n",
            "Evaluate   : 100%|███████████████████████████| 1/1 [00:00<00:00, 12.16it/s, GPU RAM: 2.09 G/14.76 G]\n",
            "Train     8: 100%|█████████████████████████| 48/48 [00:12<00:00,  3.85it/s, GPU RAM: 2.09 G/14.76 G]\n",
            "Evaluate   : 100%|███████████████████████████| 1/1 [00:00<00:00, 13.78it/s, GPU RAM: 2.09 G/14.76 G]\n",
            "Train     9: 100%|█████████████████████████| 48/48 [00:14<00:00,  3.22it/s, GPU RAM: 2.09 G/14.76 G]\n",
            "Evaluate   : 100%|███████████████████████████| 1/1 [00:00<00:00, 11.51it/s, GPU RAM: 2.09 G/14.76 G]\n",
            "Train    10: 100%|█████████████████████████| 48/48 [00:12<00:00,  3.86it/s, GPU RAM: 2.09 G/14.76 G]\n",
            "Evaluate   : 100%|███████████████████████████| 1/1 [00:00<00:00, 11.04it/s, GPU RAM: 2.09 G/14.76 G]\n",
            "Train    11: 100%|█████████████████████████| 48/48 [00:12<00:00,  3.81it/s, GPU RAM: 2.09 G/14.76 G]\n",
            "Evaluate   : 100%|███████████████████████████| 1/1 [00:00<00:00, 11.81it/s, GPU RAM: 2.09 G/14.76 G]\n",
            "Train    12: 100%|█████████████████████████| 48/48 [00:12<00:00,  3.91it/s, GPU RAM: 2.09 G/14.76 G]\n",
            "Evaluate   : 100%|███████████████████████████| 1/1 [00:00<00:00, 13.89it/s, GPU RAM: 2.09 G/14.76 G]\n",
            "Train    13: 100%|█████████████████████████| 48/48 [00:12<00:00,  3.83it/s, GPU RAM: 2.09 G/14.76 G]\n",
            "Evaluate   : 100%|███████████████████████████| 1/1 [00:00<00:00, 10.61it/s, GPU RAM: 2.09 G/14.76 G]\n",
            "Train    14: 100%|█████████████████████████| 48/48 [00:12<00:00,  3.82it/s, GPU RAM: 2.09 G/14.76 G]\n",
            "Evaluate   : 100%|███████████████████████████| 1/1 [00:00<00:00, 11.38it/s, GPU RAM: 2.09 G/14.76 G]\n",
            "Train    15: 100%|█████████████████████████| 48/48 [00:12<00:00,  3.84it/s, GPU RAM: 2.09 G/14.76 G]\n",
            "Evaluate   : 100%|███████████████████████████| 1/1 [00:00<00:00, 14.21it/s, GPU RAM: 2.09 G/14.76 G]\n",
            "Train    16: 100%|█████████████████████████| 48/48 [00:12<00:00,  3.85it/s, GPU RAM: 2.09 G/14.76 G]\n",
            "Evaluate   : 100%|███████████████████████████| 1/1 [00:00<00:00, 11.72it/s, GPU RAM: 2.09 G/14.76 G]\n",
            "Train    17: 100%|█████████████████████████| 48/48 [00:12<00:00,  3.81it/s, GPU RAM: 2.09 G/14.76 G]\n",
            "Evaluate   : 100%|███████████████████████████| 1/1 [00:00<00:00, 14.64it/s, GPU RAM: 2.09 G/14.76 G]\n",
            "Train    18: 100%|█████████████████████████| 48/48 [00:12<00:00,  3.87it/s, GPU RAM: 2.09 G/14.76 G]\n",
            "Evaluate   : 100%|███████████████████████████| 1/1 [00:00<00:00, 11.45it/s, GPU RAM: 2.09 G/14.76 G]\n",
            "Train    19: 100%|█████████████████████████| 48/48 [00:12<00:00,  3.87it/s, GPU RAM: 2.09 G/14.76 G]\n",
            "Evaluate   : 100%|███████████████████████████| 1/1 [00:00<00:00, 12.86it/s, GPU RAM: 2.09 G/14.76 G]\n",
            "Train    20: 100%|█████████████████████████| 48/48 [00:12<00:00,  3.84it/s, GPU RAM: 2.09 G/14.76 G]\n",
            "Evaluate   : 100%|███████████████████████████| 1/1 [00:00<00:00,  8.79it/s, GPU RAM: 2.09 G/14.76 G]\n",
            "Train    21: 100%|█████████████████████████| 48/48 [00:13<00:00,  3.44it/s, GPU RAM: 2.09 G/14.76 G]\n",
            "Evaluate   : 100%|███████████████████████████| 1/1 [00:00<00:00, 13.47it/s, GPU RAM: 2.09 G/14.76 G]\n",
            "Train    22: 100%|█████████████████████████| 48/48 [00:12<00:00,  3.82it/s, GPU RAM: 2.09 G/14.76 G]\n",
            "Evaluate   : 100%|███████████████████████████| 1/1 [00:00<00:00, 10.64it/s, GPU RAM: 2.09 G/14.76 G]\n",
            "Train    23: 100%|█████████████████████████| 48/48 [00:12<00:00,  3.89it/s, GPU RAM: 2.09 G/14.76 G]\n",
            "Evaluate   : 100%|███████████████████████████| 1/1 [00:00<00:00, 14.09it/s, GPU RAM: 2.09 G/14.76 G]\n",
            "Train    24: 100%|█████████████████████████| 48/48 [00:12<00:00,  3.81it/s, GPU RAM: 2.09 G/14.76 G]\n",
            "Evaluate   : 100%|███████████████████████████| 1/1 [00:00<00:00, 14.19it/s, GPU RAM: 2.09 G/14.76 G]\n",
            "Evaluate   : 100%|███████████████████████████| 1/1 [00:00<00:00, 11.89it/s, GPU RAM: 2.09 G/14.76 G]\n"
          ]
        },
        {
          "output_type": "execute_result",
          "data": {
            "text/plain": [
              "{'best_valid_score': 0.0277,\n",
              " 'valid_score_bigger': True,\n",
              " 'best_valid_result': OrderedDict([('recall@10', 0.0795),\n",
              "              ('mrr@10', 0.0277),\n",
              "              ('ndcg@10', 0.0394),\n",
              "              ('hit@10', 0.0795),\n",
              "              ('precision@10', 0.008)]),\n",
              " 'test_result': OrderedDict([('recall@10', 0.0689),\n",
              "              ('mrr@10', 0.0185),\n",
              "              ('ndcg@10', 0.03),\n",
              "              ('hit@10', 0.0689),\n",
              "              ('precision@10', 0.0069)])}"
            ]
          },
          "metadata": {},
          "execution_count": 5
        }
      ]
    },
    {
      "cell_type": "code",
      "source": [
        "!python run_recbole.py"
      ],
      "metadata": {
        "id": "iHblyDAGfi5C",
        "colab": {
          "base_uri": "https://localhost:8080/"
        },
        "outputId": "2b92e165-ccf0-4822-aa2d-050f6d5cc8b2"
      },
      "execution_count": 6,
      "outputs": [
        {
          "output_type": "stream",
          "name": "stdout",
          "text": [
            "python3: can't open file 'run_recbole.py': [Errno 2] No such file or directory\n"
          ]
        }
      ]
    },
    {
      "cell_type": "code",
      "source": [],
      "metadata": {
        "id": "QMsppY6p9ul4"
      },
      "execution_count": null,
      "outputs": []
    }
  ]
}